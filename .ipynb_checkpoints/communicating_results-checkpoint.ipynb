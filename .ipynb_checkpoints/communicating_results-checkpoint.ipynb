{
 "cells": [
  {
   "cell_type": "code",
   "execution_count": null,
   "metadata": {},
   "outputs": [],
   "source": [
    "import pandas as pd\n",
    "df = pd.read_csv('dataframe')\n",
    "df.info()"
   ]
  },
  {
   "cell_type": "code",
   "execution_count": null,
   "metadata": {},
   "outputs": [],
   "source": [
    "# create two dataframes for people income above and below 50K\n",
    "df_a = df[df['income'] == '>50k']\n",
    "df_b = df[df['imcome'] == '<=50k']"
   ]
  },
  {
   "cell_type": "code",
   "execution_count": null,
   "metadata": {},
   "outputs": [],
   "source": [
    "# bar graph to compare their edu level reached in both groups\n",
    "df_a['education'].value_counts.plot(kind = 'bar');\n",
    "df_b['education'].value_counts.plot(kind = 'bar');\n",
    "# it will return the bar graph in order size so comparison is difficult"
   ]
  },
  {
   "cell_type": "code",
   "execution_count": null,
   "metadata": {},
   "outputs": [],
   "source": [
    "# to have consistent x axis label for better index\n",
    "# compare them with same index\n",
    "ind = df_a['education'].value_counts().index\n",
    "df_a['education'].value_counts[ind].plot(kind = 'bar');\n",
    "df_b['education'].value_counts[ind].plot(kind = 'bar');"
   ]
  },
  {
   "cell_type": "markdown",
   "metadata": {},
   "source": [
    "### plot pie chart "
   ]
  },
  {
   "cell_type": "code",
   "execution_count": null,
   "metadata": {},
   "outputs": [],
   "source": [
    "#plot pie chart with the same index technique\n",
    "ind = df_a['workclass'].value_counts().index\n",
    "df_a['workclass'].value_counts[ind].plot(kind = 'pie',figsize= (8,8));\n",
    "df_b['workclass'].value_counts[ind].plot(kind = 'pie');"
   ]
  },
  {
   "cell_type": "markdown",
   "metadata": {},
   "source": [
    "###  plot distribution of ages"
   ]
  },
  {
   "cell_type": "code",
   "execution_count": null,
   "metadata": {},
   "outputs": [],
   "source": [
    "df_a['age'].hist() ;"
   ]
  },
  {
   "cell_type": "code",
   "execution_count": null,
   "metadata": {},
   "outputs": [],
   "source": [
    "df_b['age'].hist() :"
   ]
  },
  {
   "cell_type": "code",
   "execution_count": null,
   "metadata": {},
   "outputs": [],
   "source": []
  },
  {
   "cell_type": "code",
   "execution_count": null,
   "metadata": {},
   "outputs": [],
   "source": []
  }
 ],
 "metadata": {
  "kernelspec": {
   "display_name": "Python [default]",
   "language": "python",
   "name": "python3"
  },
  "language_info": {
   "codemirror_mode": {
    "name": "ipython",
    "version": 3
   },
   "file_extension": ".py",
   "mimetype": "text/x-python",
   "name": "python",
   "nbconvert_exporter": "python",
   "pygments_lexer": "ipython3",
   "version": "3.6.5"
  }
 },
 "nbformat": 4,
 "nbformat_minor": 2
}
